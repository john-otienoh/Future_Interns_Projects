{
 "cells": [
  {
   "cell_type": "code",
   "execution_count": 1,
   "id": "e7f49f61",
   "metadata": {},
   "outputs": [],
   "source": [
    "import pandas as pd"
   ]
  },
  {
   "cell_type": "code",
   "execution_count": 14,
   "id": "ce7e47f2",
   "metadata": {},
   "outputs": [],
   "source": [
    "# Function to read and load data\n",
    "def read_and_load_csv(filepath):\n",
    "    \"\"\"Load, read and fix the index column.\n",
    "\n",
    "    Parameters\n",
    "    ----------\n",
    "    filepath : str\n",
    "        The location of csv file to be read.\n",
    "    \n",
    "    Returns\n",
    "    -------\n",
    "    pd.DataFrame\n",
    "        Columns are 'Open', 'High', 'Low', 'Close', 'Volume', 'Close time', 'Quote asset volume',\n",
    "        'Number of trades', 'Taker buy base asset volume', 'Taker buy quote asset volume', 'Ignore'               \n",
    "    \"\"\"\n",
    "    df = pd.read_csv(filepath, parse_dates=True, index_col='Open time')\n",
    "    df.index = pd.to_datetime(df.index).tz_localize(None).normalize()\n",
    "\n",
    "    return df\n"
   ]
  },
  {
   "cell_type": "code",
   "execution_count": 16,
   "id": "2e3198be",
   "metadata": {},
   "outputs": [
    {
     "data": {
      "text/html": [
       "<div>\n",
       "<style scoped>\n",
       "    .dataframe tbody tr th:only-of-type {\n",
       "        vertical-align: middle;\n",
       "    }\n",
       "\n",
       "    .dataframe tbody tr th {\n",
       "        vertical-align: top;\n",
       "    }\n",
       "\n",
       "    .dataframe thead th {\n",
       "        text-align: right;\n",
       "    }\n",
       "</style>\n",
       "<table border=\"1\" class=\"dataframe\">\n",
       "  <thead>\n",
       "    <tr style=\"text-align: right;\">\n",
       "      <th></th>\n",
       "      <th>Open</th>\n",
       "      <th>High</th>\n",
       "      <th>Low</th>\n",
       "      <th>Close</th>\n",
       "      <th>Volume</th>\n",
       "      <th>Close time</th>\n",
       "      <th>Quote asset volume</th>\n",
       "      <th>Number of trades</th>\n",
       "      <th>Taker buy base asset volume</th>\n",
       "      <th>Taker buy quote asset volume</th>\n",
       "      <th>Ignore</th>\n",
       "    </tr>\n",
       "    <tr>\n",
       "      <th>Open time</th>\n",
       "      <th></th>\n",
       "      <th></th>\n",
       "      <th></th>\n",
       "      <th></th>\n",
       "      <th></th>\n",
       "      <th></th>\n",
       "      <th></th>\n",
       "      <th></th>\n",
       "      <th></th>\n",
       "      <th></th>\n",
       "      <th></th>\n",
       "    </tr>\n",
       "  </thead>\n",
       "  <tbody>\n",
       "    <tr>\n",
       "      <th>2018-01-01</th>\n",
       "      <td>13715.65</td>\n",
       "      <td>13715.65</td>\n",
       "      <td>13400.01</td>\n",
       "      <td>13556.15</td>\n",
       "      <td>123.616013</td>\n",
       "      <td>2018-01-01 00:14:59.999000 UTC</td>\n",
       "      <td>1.675545e+06</td>\n",
       "      <td>1572</td>\n",
       "      <td>63.227133</td>\n",
       "      <td>8.576108e+05</td>\n",
       "      <td>0</td>\n",
       "    </tr>\n",
       "    <tr>\n",
       "      <th>2018-01-01</th>\n",
       "      <td>13533.75</td>\n",
       "      <td>13550.87</td>\n",
       "      <td>13402.00</td>\n",
       "      <td>13521.12</td>\n",
       "      <td>98.136430</td>\n",
       "      <td>2018-01-01 00:29:59.999000 UTC</td>\n",
       "      <td>1.321757e+06</td>\n",
       "      <td>1461</td>\n",
       "      <td>47.686389</td>\n",
       "      <td>6.422812e+05</td>\n",
       "      <td>0</td>\n",
       "    </tr>\n",
       "    <tr>\n",
       "      <th>2018-01-01</th>\n",
       "      <td>13500.00</td>\n",
       "      <td>13545.37</td>\n",
       "      <td>13450.00</td>\n",
       "      <td>13470.41</td>\n",
       "      <td>79.904037</td>\n",
       "      <td>2018-01-01 00:44:59.999000 UTC</td>\n",
       "      <td>1.078825e+06</td>\n",
       "      <td>1000</td>\n",
       "      <td>43.710406</td>\n",
       "      <td>5.900347e+05</td>\n",
       "      <td>0</td>\n",
       "    </tr>\n",
       "    <tr>\n",
       "      <th>2018-01-01</th>\n",
       "      <td>13494.65</td>\n",
       "      <td>13690.87</td>\n",
       "      <td>13450.00</td>\n",
       "      <td>13529.01</td>\n",
       "      <td>141.699719</td>\n",
       "      <td>2018-01-01 00:59:59.999000 UTC</td>\n",
       "      <td>1.917783e+06</td>\n",
       "      <td>1195</td>\n",
       "      <td>73.897993</td>\n",
       "      <td>1.000614e+06</td>\n",
       "      <td>0</td>\n",
       "    </tr>\n",
       "    <tr>\n",
       "      <th>2018-01-01</th>\n",
       "      <td>13528.99</td>\n",
       "      <td>13571.74</td>\n",
       "      <td>13402.28</td>\n",
       "      <td>13445.63</td>\n",
       "      <td>72.537533</td>\n",
       "      <td>2018-01-01 01:14:59.999000 UTC</td>\n",
       "      <td>9.778198e+05</td>\n",
       "      <td>898</td>\n",
       "      <td>34.257652</td>\n",
       "      <td>4.618369e+05</td>\n",
       "      <td>0</td>\n",
       "    </tr>\n",
       "  </tbody>\n",
       "</table>\n",
       "</div>"
      ],
      "text/plain": [
       "                Open      High       Low     Close      Volume  \\\n",
       "Open time                                                        \n",
       "2018-01-01  13715.65  13715.65  13400.01  13556.15  123.616013   \n",
       "2018-01-01  13533.75  13550.87  13402.00  13521.12   98.136430   \n",
       "2018-01-01  13500.00  13545.37  13450.00  13470.41   79.904037   \n",
       "2018-01-01  13494.65  13690.87  13450.00  13529.01  141.699719   \n",
       "2018-01-01  13528.99  13571.74  13402.28  13445.63   72.537533   \n",
       "\n",
       "                                Close time  Quote asset volume  \\\n",
       "Open time                                                        \n",
       "2018-01-01  2018-01-01 00:14:59.999000 UTC        1.675545e+06   \n",
       "2018-01-01  2018-01-01 00:29:59.999000 UTC        1.321757e+06   \n",
       "2018-01-01  2018-01-01 00:44:59.999000 UTC        1.078825e+06   \n",
       "2018-01-01  2018-01-01 00:59:59.999000 UTC        1.917783e+06   \n",
       "2018-01-01  2018-01-01 01:14:59.999000 UTC        9.778198e+05   \n",
       "\n",
       "            Number of trades  Taker buy base asset volume  \\\n",
       "Open time                                                   \n",
       "2018-01-01              1572                    63.227133   \n",
       "2018-01-01              1461                    47.686389   \n",
       "2018-01-01              1000                    43.710406   \n",
       "2018-01-01              1195                    73.897993   \n",
       "2018-01-01               898                    34.257652   \n",
       "\n",
       "            Taker buy quote asset volume  Ignore  \n",
       "Open time                                         \n",
       "2018-01-01                  8.576108e+05       0  \n",
       "2018-01-01                  6.422812e+05       0  \n",
       "2018-01-01                  5.900347e+05       0  \n",
       "2018-01-01                  1.000614e+06       0  \n",
       "2018-01-01                  4.618369e+05       0  "
      ]
     },
     "execution_count": 16,
     "metadata": {},
     "output_type": "execute_result"
    }
   ],
   "source": [
    "df = read_and_load_csv(\"./Datasets/btc_15m_data_2018_to_2025.csv\")\n",
    "df.head()\n"
   ]
  },
  {
   "cell_type": "code",
   "execution_count": 17,
   "id": "f4009e6c",
   "metadata": {},
   "outputs": [
    {
     "name": "stdout",
     "output_type": "stream",
     "text": [
      "<class 'pandas.core.frame.DataFrame'>\n",
      "DatetimeIndex: 262507 entries, 2018-01-01 to NaT\n",
      "Data columns (total 11 columns):\n",
      " #   Column                        Non-Null Count   Dtype  \n",
      "---  ------                        --------------   -----  \n",
      " 0   Open                          262507 non-null  float64\n",
      " 1   High                          262507 non-null  float64\n",
      " 2   Low                           262507 non-null  float64\n",
      " 3   Close                         262507 non-null  float64\n",
      " 4   Volume                        262507 non-null  float64\n",
      " 5   Close time                    262504 non-null  object \n",
      " 6   Quote asset volume            262507 non-null  float64\n",
      " 7   Number of trades              262507 non-null  int64  \n",
      " 8   Taker buy base asset volume   262507 non-null  float64\n",
      " 9   Taker buy quote asset volume  262507 non-null  float64\n",
      " 10  Ignore                        262507 non-null  int64  \n",
      "dtypes: float64(8), int64(2), object(1)\n",
      "memory usage: 24.0+ MB\n"
     ]
    }
   ],
   "source": [
    "df.info()"
   ]
  },
  {
   "cell_type": "markdown",
   "id": "9429d1fd",
   "metadata": {},
   "source": [
    "# Exploring the data"
   ]
  },
  {
   "cell_type": "code",
   "execution_count": 18,
   "id": "33e2654b",
   "metadata": {},
   "outputs": [
    {
     "data": {
      "text/plain": [
       "<Axes: xlabel='Open time'>"
      ]
     },
     "execution_count": 18,
     "metadata": {},
     "output_type": "execute_result"
    },
    {
     "data": {
      "image/png": "[encoded data removed]",
      "text/plain": [
       "<Figure size 640x480 with 1 Axes>"
      ]
     },
     "metadata": {},
     "output_type": "display_data"
    }
   ],
   "source": [
    "df['7_day_rolling'] = df['Close'].rolling(window=7).mean()\n",
    "df['7_day_rolling'].plot()"
   ]
  },
  {
   "cell_type": "code",
   "execution_count": 20,
   "id": "a46fe9ee",
   "metadata": {},
   "outputs": [
    {
     "data": {
      "text/plain": [
       "Timestamp('2025-07-31 00:00:00')"
      ]
     },
     "execution_count": 20,
     "metadata": {},
     "output_type": "execute_result"
    }
   ],
   "source": [
    "# Highest Average Month\n",
    "df['Close'].resample('ME').mean().idxmax()"
   ]
  },
  {
   "cell_type": "code",
   "execution_count": 19,
   "id": "2719718b",
   "metadata": {},
   "outputs": [
    {
     "data": {
      "text/plain": [
       "Open time\n",
       "2018-01-01         NaN\n",
       "2018-01-01   -0.258407\n",
       "2018-01-01   -0.375043\n",
       "2018-01-01    0.435028\n",
       "2018-01-01   -0.616305\n",
       "Name: daily_returns, dtype: float64"
      ]
     },
     "execution_count": 19,
     "metadata": {},
     "output_type": "execute_result"
    }
   ],
   "source": [
    "df['daily_returns'] = df['Close'].pct_change() * 100\n",
    "df['daily_returns'].head()"
   ]
  }
 ],
 "metadata": {
  "kernelspec": {
   "display_name": ".venv",
   "language": "python",
   "name": "python3"
  },
  "language_info": {
   "codemirror_mode": {
    "name": "ipython",
    "version": 3
   },
   "file_extension": ".py",
   "mimetype": "text/x-python",
   "name": "python",
   "nbconvert_exporter": "python",
   "pygments_lexer": "ipython3",
   "version": "3.12.3"
  }
 },
 "nbformat": 4,
 "nbformat_minor": 5
}
